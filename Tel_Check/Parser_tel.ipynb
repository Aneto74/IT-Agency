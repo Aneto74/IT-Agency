{
 "cells": [
  {
   "cell_type": "code",
   "execution_count": null,
   "metadata": {},
   "outputs": [],
   "source": [
    "#Пример Google Sheet который конвертнул в csv: https://docs.google.com/spreadsheets/d/1ixw5YIfXPwAJyse1WAg00vYDjd6wwT3_KG8PFrpBaQ8/edit#gid=0\n",
    "#Это первый шаг, делать его обазетельно\n",
    "\n",
    "from bs4 import BeautifulSoup\n",
    "#from fake_useragent import UserAgent -- если нужно проверять с мобилы\n",
    "import pandas as pd\n",
    "import requests\n",
    "import warnings; warnings.simplefilter('ignore') #убираем предупреждения\n",
    "import re\n",
    "\n",
    "#ua = UserAgent()\n",
    "\n",
    "df = pd.read_csv('url_cmrt.ru.csv')\n",
    "\n",
    "df['tel'] = df['tel'].astype('str')\n",
    "\n",
    "for i in range(len(df)):\n",
    "    if 'http://' not in df.iloc[i, 0]:\n",
    "        df.iloc[i, 0] = 'http://' + df.iloc[i, 0]\n",
    "        \n",
    "    if len(df.loc[i, 'tel']) == 11:\n",
    "        df.loc[i, 'tel'] = '+' + str(df.loc[i, 'tel'])\n",
    "    elif len(df.loc[i, 'tel']) == 10:\n",
    "        df.loc[i, 'tel'] = '+7' + str(df.loc[i, 'tel'])\n",
    "        \n",
    "    url = df.loc[i, 'Url']\n",
    "    soup = BeautifulSoup(requests.get(url, headers={'Cache-Control': 'no-cache'}).text)\n",
    "    links = soup.find_all('a', href=re.compile(\"tel:\"))\n",
    "    \n",
    "    link_temporary = []\n",
    "    \n",
    "    for link in links:\n",
    "        l = link['href']\n",
    "        link_temporary.append(l[4:])\n",
    "    \n",
    "    for b in range(len(link_temporary)):\n",
    "        for a in link_temporary:\n",
    "            here = 'tel-' + str(b)\n",
    "            df.loc[i, here] = a\n",
    "            df[here] = df[here].astype('str')\n",
    "    \n",
    "            if len(df.loc[i, here]) > 12:\n",
    "                df.loc[i, here] = df.loc[i, here].replace(\" \", \"\")        \n",
    "                df.loc[i, here] = df.loc[i, here].replace(\"\\u200b\", \"\")\n",
    "            df.loc[i, 'NoError-' + here] = (df.loc[i, 'tel'] == df.loc[i, here])\n",
    "\n",
    "df.to_csv('cmrt-out.csv', sep=',')\n",
    "\n",
    "df"
   ]
  },
  {
   "cell_type": "code",
   "execution_count": null,
   "metadata": {},
   "outputs": [],
   "source": [
    "# Второй шаг — показывает только значения где есть ошибки. Первый шаг сделать обязательно.\n",
    "\n",
    "df_column = df.columns.get_values()\n",
    "column_result = [s for s in df_column if 'NoError-tel' in s]\n",
    "\n",
    "list_errors = []\n",
    "\n",
    "for x in column_result:\n",
    "    df_temp = df.loc[~df[x].isin([True])].index.values.tolist()\n",
    "    for y in df_temp:\n",
    "        list_errors.append(y)\n",
    "    \n",
    "output = []\n",
    "for x in list_errors:\n",
    "    if x not in output:\n",
    "        output.append(x)\n",
    "\n",
    "if len(output) == 0:\n",
    "    print('Ошибок нет')\n",
    "else:\n",
    "    print('Ошибки находятся в строках: ' + str(output))\n",
    "    display(df.loc[df.index.isin(output)])"
   ]
  },
  {
   "cell_type": "code",
   "execution_count": null,
   "metadata": {},
   "outputs": [],
   "source": []
  }
 ],
 "metadata": {
  "kernelspec": {
   "display_name": "Python 3",
   "language": "python",
   "name": "python3"
  },
  "language_info": {
   "codemirror_mode": {
    "name": "ipython",
    "version": 3
   },
   "file_extension": ".py",
   "mimetype": "text/x-python",
   "name": "python",
   "nbconvert_exporter": "python",
   "pygments_lexer": "ipython3",
   "version": "3.6.4"
  }
 },
 "nbformat": 4,
 "nbformat_minor": 2
}
